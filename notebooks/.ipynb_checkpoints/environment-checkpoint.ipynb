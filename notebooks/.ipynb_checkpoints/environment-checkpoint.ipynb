{
 "cells": [
  {
   "cell_type": "code",
   "execution_count": 17,
   "id": "9495b2ba-515c-495e-a690-955aca972a18",
   "metadata": {},
   "outputs": [],
   "source": [
    "import gym\n",
    "from gym import spaces\n",
    "import numpy as np\n",
    "import matplotlib.pyplot as plt\n",
    "import matplotlib.image as mpimg\n",
    "import time\n",
    "plt.rcParams[\"figure.figsize\"] = [6,6]"
   ]
  },
  {
   "cell_type": "code",
   "execution_count": 43,
   "id": "8818030c-f76d-4f63-b0f6-5c22510faf98",
   "metadata": {},
   "outputs": [],
   "source": [
    "class GridEnvironment(gym.Env):\n",
    "    \n",
    "    def __init__(self):\n",
    "        self.observation_space = spaces.Discrete(16)\n",
    "        self.action_space = spaces.Discrete(4)\n",
    "        self.max_timesteps = 10\n",
    "        self.timestep = 0\n",
    "        self.done = False\n",
    "        \n",
    "        self.pos = {'knight':[3,0],\n",
    "                   'mon1':[1,2],\n",
    "                   'mon2':[2,1],\n",
    "                   'chest':[0,3],\n",
    "                   'coin1':[3,1],\n",
    "                   'coin2':[1,3]}\n",
    "        \n",
    "        self.mon1_death = False\n",
    "        self.mon2_death = False\n",
    "        self.coin1_collected = False\n",
    "        self.coin2_collected = False\n",
    "        \n",
    "        # loading assets for rendering\n",
    "        \n",
    "        chars = mpimg.imread('Dungeon_Character.png')\n",
    "        tiles = mpimg.imread('Dungeon_Tileset.png')\n",
    "        assets = {}\n",
    "        assets['knight'] = chars[:16,16*5:16*6]\n",
    "        assets['mon1'] = chars[16:,16*6:]\n",
    "        assets['mon2'] = chars[16:,16*5:16*6]\n",
    "        assets['chest'] = tiles[16*8:16*9,16*4:16*5]\n",
    "        assets['bones'] = tiles[16*7:16*8,16*7:16*8]\n",
    "        torch = tiles[16*9:,:16]\n",
    "        assets['coin1'] = tiles[16*8:16*9,16*6:16*7]\n",
    "        assets['coin2'] = assets['coin1']\n",
    "        stage = np.concatenate((tiles[:16*3,:16*6],\n",
    "                                np.flip(tiles[16*2:16*3,:16*6],axis=1),\n",
    "                                tiles[16*3:16*5,:16*6]),axis=0)\n",
    "        stage[:16,16:16*2] = np.where(torch != 0,torch,stage[:16,16:16*2])\n",
    "        stage[:16,16*4:16*5] = np.where(torch != 0,torch,stage[:16,16*4:16*5])\n",
    "        self.stage = stage\n",
    "        self.assets = assets\n",
    "        self.archives = []\n",
    "        \n",
    "    def archive(self):\n",
    "        instnace = [(self.pos['knight'])]\n",
    "        self.archives.append(tuple(instance))\n",
    "\n",
    "    def reset(self):\n",
    "        self.timestep = 0\n",
    "        self.pos = {'knight':[3,0],\n",
    "                   'mon1':[1,2],\n",
    "                   'mon2':[2,1],\n",
    "                   'chest':[0,3],\n",
    "                   'coin1':[3,1],\n",
    "                   'coin2':[1,3]}\n",
    "        self.archive = []\n",
    "        self.done = False\n",
    "        \n",
    "        self.mon1_death = False\n",
    "        self.mon2_death = False\n",
    "        self.coin1_collected = False\n",
    "        self.coin2_collected = False\n",
    "        \n",
    "        return self.pos['knight'][0]*4 + self.pos['knight'][1]\n",
    "    \n",
    "    def step(self, action, stochastic = False):\n",
    "        '''\n",
    "        0 - up\n",
    "        1 - down\n",
    "        2 - right\n",
    "        3 - left\n",
    "        '''\n",
    "        if stochastic == True:\n",
    "            action_prop = 0.6\n",
    "            props = [0.1,0.1,0.1,0.1]\n",
    "            props[action] += 0.6\n",
    "            action = np.random.choice(4, 1, p=props)[0]\n",
    "            \n",
    "        if action == 0:\n",
    "            self.pos['knight'][0] += 1\n",
    "        elif action == 1:\n",
    "            self.pos['knight'][0] -= 1\n",
    "        elif action == 2:\n",
    "            self.pos['knight'][1] += 1\n",
    "        elif action == 3:\n",
    "            self.pos['knight'][1] -= 1\n",
    "\n",
    "        self.pos['knight'] = list(np.clip(self.pos['knight'], 0, 3))\n",
    "        \n",
    "        reward = 0\n",
    "        if self.pos['knight'] == self.pos['chest']:\n",
    "            reward = 10\n",
    "            self.done = True\n",
    "            \n",
    "        elif self.pos['knight'] == self.pos['mon1']:\n",
    "            if self.mon1_death:\n",
    "                pass\n",
    "            else:\n",
    "                reward = -10\n",
    "                self.mon1_death = True\n",
    "                \n",
    "        elif self.pos['knight'] == self.pos['mon2']:\n",
    "            if self.mon2_death:\n",
    "                pass\n",
    "            else:\n",
    "                reward = -10\n",
    "                self.mon2_death = True\n",
    "        elif self.pos['knight'] == self.pos['coin1']:\n",
    "            if self.coin1_collected:\n",
    "                pass\n",
    "            else:\n",
    "                reward = 2\n",
    "                self.coin1_collected = True\n",
    "        elif self.pos['knight'] == self.pos['coin2']:\n",
    "            if self.coin2_collected:\n",
    "                pass\n",
    "            else:\n",
    "                reward = 2\n",
    "                self.coin2_collected = True\n",
    "        \n",
    "        self.timestep += 1\n",
    "        if self.timestep == self.max_timesteps:\n",
    "            self.done = True\n",
    "            \n",
    "        self.archive()\n",
    "        \n",
    "        return self.pos['knight'][0]*4 + self.pos['knight'][1], reward\n",
    "    \n",
    "    def project(self,pos):\n",
    "        instance = np.copy(self.stage)\n",
    "        for item in ['mon1','mon2','chest','coin1','coin2','knight']:\n",
    "            item_asset = item\n",
    "            if item == 'mon1' and self.mon1_death:\n",
    "                item_asset = 'bones'\n",
    "            elif item == 'mon2' and self.mon2_death:\n",
    "                item_asset = 'bones'\n",
    "            elif item == 'coin1' and self.coin1_collected:\n",
    "                continue\n",
    "            elif item == 'coin2' and self.coin2_collected:\n",
    "                continue\n",
    "            x = np.where(self.assets[item_asset] != 0, self.assets[item_asset], \n",
    "                       instance[16*(pos[item][0]+1):16*(pos[item][0]+2),\n",
    "                                16*(pos[item][1]+1):16*(pos[item][1]+2)])\n",
    "            instance[16*(pos[item][0]+1):16*(pos[item][0]+2),\n",
    "                     16*(pos[item][1]+1):16*(pos[item][1]+2)] = x\n",
    "        return instance\n",
    "    \n",
    "    def render(self):\n",
    "        for instance in self.archives:\n",
    "            instance = self.project(instance)\n",
    "            plt.figure()\n",
    "            plt.axis('off')\n",
    "            plt.imshow(instance,interpolation='none',aspect='equal')\n",
    "        "
   ]
  },
  {
   "cell_type": "code",
   "execution_count": 44,
   "id": "0a171c76-db5e-4ec7-9cae-a1ecd0f387aa",
   "metadata": {},
   "outputs": [],
   "source": [
    "class RandomAgent:\n",
    "    def __init__(self, env):\n",
    "        self.env = env\n",
    "        self.observation_space = env.observation_space\n",
    "        self.action_space = env.action_space\n",
    "\n",
    "    def step(self, pos):\n",
    "        return np.random.choice(self.action_space.n)\n",
    "\n",
    "class Qlearning:\n",
    "    def __init__(self,env):\n",
    "        self.env = env\n",
    "        self.observation_space = env.observation_space.n\n",
    "        self.action_space = env.action_space.n\n",
    "        self.table = np.zeros((self.observation_space,self.action_space))\n",
    "        \n",
    "        self.num_epochs = 10000\n",
    "        self.max_steps = 10\n",
    "        self.learning_rate = 0.1\n",
    "        self.discount_rate = 0.99\n",
    "        \n",
    "        self.exploration_rate = 1\n",
    "        self.max_exploration_rate = 1\n",
    "        self.min_exploration_rate = 0.01\n",
    "        self.exploration_decay_rate = 0.001\n",
    "        \n",
    "    def step(self,state):\n",
    "        if np.random.choice(2,1,p=[self.exploration_rate,1-self.exploration_rate])[0]:\n",
    "            action = np.argmax(self.table[state,:])\n",
    "        else:\n",
    "            action = self.env.action_space.sample()\n",
    "        \n",
    "        return action"
   ]
  },
  {
   "cell_type": "code",
   "execution_count": 45,
   "id": "fdf43833-c938-47a2-baaf-6120de267f86",
   "metadata": {
    "tags": []
   },
   "outputs": [
    {
     "ename": "TypeError",
     "evalue": "'list' object is not callable",
     "output_type": "error",
     "traceback": [
      "\u001b[1;31m---------------------------------------------------------------------------\u001b[0m",
      "\u001b[1;31mTypeError\u001b[0m                                 Traceback (most recent call last)",
      "Input \u001b[1;32mIn [45]\u001b[0m, in \u001b[0;36m<module>\u001b[1;34m\u001b[0m\n\u001b[0;32m      6\u001b[0m \u001b[38;5;28;01mwhile\u001b[39;00m \u001b[38;5;129;01mnot\u001b[39;00m env\u001b[38;5;241m.\u001b[39mdone:\n\u001b[0;32m      7\u001b[0m     action \u001b[38;5;241m=\u001b[39m agent\u001b[38;5;241m.\u001b[39mstep(pos)\n\u001b[1;32m----> 8\u001b[0m     obs, reward \u001b[38;5;241m=\u001b[39m \u001b[43menv\u001b[49m\u001b[38;5;241;43m.\u001b[39;49m\u001b[43mstep\u001b[49m\u001b[43m(\u001b[49m\u001b[43maction\u001b[49m\u001b[43m,\u001b[49m\u001b[43mstochastic\u001b[49m\u001b[38;5;241;43m=\u001b[39;49m\u001b[38;5;28;43;01mFalse\u001b[39;49;00m\u001b[43m)\u001b[49m\n\u001b[0;32m      9\u001b[0m     \u001b[38;5;28mprint\u001b[39m(env\u001b[38;5;241m.\u001b[39marchives)\n",
      "Input \u001b[1;32mIn [43]\u001b[0m, in \u001b[0;36mGridEnvironment.step\u001b[1;34m(self, action, stochastic)\u001b[0m\n\u001b[0;32m    122\u001b[0m \u001b[38;5;28;01mif\u001b[39;00m \u001b[38;5;28mself\u001b[39m\u001b[38;5;241m.\u001b[39mtimestep \u001b[38;5;241m==\u001b[39m \u001b[38;5;28mself\u001b[39m\u001b[38;5;241m.\u001b[39mmax_timesteps:\n\u001b[0;32m    123\u001b[0m     \u001b[38;5;28mself\u001b[39m\u001b[38;5;241m.\u001b[39mdone \u001b[38;5;241m=\u001b[39m \u001b[38;5;28;01mTrue\u001b[39;00m\n\u001b[1;32m--> 125\u001b[0m \u001b[38;5;28;43mself\u001b[39;49m\u001b[38;5;241;43m.\u001b[39;49m\u001b[43marchive\u001b[49m\u001b[43m(\u001b[49m\u001b[43m)\u001b[49m\n\u001b[0;32m    127\u001b[0m \u001b[38;5;28;01mreturn\u001b[39;00m \u001b[38;5;28mself\u001b[39m\u001b[38;5;241m.\u001b[39mpos[\u001b[38;5;124m'\u001b[39m\u001b[38;5;124mknight\u001b[39m\u001b[38;5;124m'\u001b[39m][\u001b[38;5;241m0\u001b[39m]\u001b[38;5;241m*\u001b[39m\u001b[38;5;241m4\u001b[39m \u001b[38;5;241m+\u001b[39m \u001b[38;5;28mself\u001b[39m\u001b[38;5;241m.\u001b[39mpos[\u001b[38;5;124m'\u001b[39m\u001b[38;5;124mknight\u001b[39m\u001b[38;5;124m'\u001b[39m][\u001b[38;5;241m1\u001b[39m], reward\n",
      "\u001b[1;31mTypeError\u001b[0m: 'list' object is not callable"
     ]
    }
   ],
   "source": [
    "env = GridEnvironment()\n",
    "agent = RandomAgent(env)\n",
    "\n",
    "pos = env.reset()\n",
    "\n",
    "while not env.done:\n",
    "    action = agent.step(pos)\n",
    "    obs, reward = env.step(action,stochastic=False)\n",
    "    print(env.archives)"
   ]
  },
  {
   "cell_type": "code",
   "execution_count": 21,
   "id": "7677e1c8-e56b-43e2-bd6c-a894b48929eb",
   "metadata": {},
   "outputs": [
    {
     "data": {
      "text/plain": [
       "[[4, 1],\n",
       " [2, 1],\n",
       " [1, 1],\n",
       " [1, 0],\n",
       " [1, 1],\n",
       " [0, 1],\n",
       " [1, 1],\n",
       " [0, 1],\n",
       " [0, 2],\n",
       " [0, 2]]"
      ]
     },
     "execution_count": 21,
     "metadata": {},
     "output_type": "execute_result"
    }
   ],
   "source": [
    "env.archive\n"
   ]
  },
  {
   "cell_type": "code",
   "execution_count": 181,
   "id": "084cf021-cb55-44d1-af8d-8d9cd848c6bc",
   "metadata": {},
   "outputs": [],
   "source": [
    "env = GridEnvironment()\n",
    "agent = Qlearning(env)\n",
    "\n",
    "rewards = []\n",
    "for epoch in range(agent.num_epochs):\n",
    "    state = env.reset()\n",
    "    total_reward = 0\n",
    "\n",
    "    while not env.done:\n",
    "        action = agent.step(state)\n",
    "        new_state, reward = env.step(action)\n",
    "        agent.table[state,action] = agent.table[state,action] * (1 - agent.learning_rate) + agent.learning_rate * (reward + agent.discount_rate * np.max(agent.table[new_state,:]))\n",
    "        state = new_state\n",
    "        total_reward += reward\n",
    "    rewards.append(total_reward)\n",
    "    agent.exploration_rate = agent.min_exploration_rate + (agent.max_exploration_rate - agent.min_exploration_rate) * np.exp(-agent.exploration_decay_rate*epoch)"
   ]
  },
  {
   "cell_type": "code",
   "execution_count": 182,
   "id": "ed8b2559-c63d-4df6-87fa-bfc883eeaa8e",
   "metadata": {},
   "outputs": [],
   "source": [
    "rewards_average = np.split(np.array(rewards),agent.num_epochs/1000)"
   ]
  },
  {
   "cell_type": "code",
   "execution_count": 183,
   "id": "9cb81927-31fb-4e3b-a43b-b6bdc5f477f0",
   "metadata": {},
   "outputs": [
    {
     "name": "stdout",
     "output_type": "stream",
     "text": [
      "1000 :  -3.3240000000000673\n",
      "2000 :  -0.7480000000000006\n",
      "3000 :  0.9820000000000009\n",
      "4000 :  1.5960000000000014\n",
      "5000 :  1.6060000000000012\n",
      "6000 :  1.8640000000000014\n",
      "7000 :  1.8660000000000014\n",
      "8000 :  1.8700000000000014\n",
      "9000 :  1.9280000000000015\n",
      "10000 :  1.8600000000000017\n"
     ]
    }
   ],
   "source": [
    "count = 1000\n",
    "for r in rewards_average:\n",
    "    print(count, \": \" , str(sum(r/1000)))\n",
    "    count += 1000"
   ]
  },
  {
   "cell_type": "code",
   "execution_count": 184,
   "id": "7f539043-f7e4-4819-8649-cde5f991735f",
   "metadata": {},
   "outputs": [
    {
     "data": {
      "text/plain": [
       "array([[22.07935514,  3.49331469,  1.03415737,  2.36444952],\n",
       "       [ 1.34483048,  0.25404876,  4.68753699,  0.25304081],\n",
       "       [-2.1868512 ,  1.23579928,  6.86189404,  0.29817734],\n",
       "       [ 0.        ,  0.        ,  0.        ,  0.        ],\n",
       "       [20.08567741, 16.60187318, 20.09008949, 20.10274538],\n",
       "       [19.06507249,  2.17908886, -3.81280307, 19.99360818],\n",
       "       [ 6.82745377,  1.88534997,  8.55765023,  7.65527854],\n",
       "       [ 1.86805141,  8.33228183,  1.53842236,  3.04234139],\n",
       "       [20.11313845, 20.10326646, 17.12346994, 20.10208826],\n",
       "       [20.70009692, 20.70899773, 20.76923978, 20.78664823],\n",
       "       [19.9248404 , -3.79446896, 18.98068661, 13.96379678],\n",
       "       [ 8.80743951,  1.46397859,  2.94051492, 23.07369438],\n",
       "       [20.13164214, 19.96136615, 20.23525258, 20.10598943],\n",
       "       [19.91786677, 10.79083283, 19.80951589, 20.10473615],\n",
       "       [19.96388338, 19.95018932, 19.95722711, 19.96920141],\n",
       "       [16.40134336, 14.88552372, 19.1947246 , 19.97760594]])"
      ]
     },
     "execution_count": 184,
     "metadata": {},
     "output_type": "execute_result"
    }
   ],
   "source": [
    "agent.table"
   ]
  },
  {
   "cell_type": "code",
   "execution_count": 185,
   "id": "6efee5b9-24dd-4276-af74-33da596ed261",
   "metadata": {},
   "outputs": [
    {
     "data": {
      "text/plain": [
       "array([ 2,  2,  2,  2,  2,  2,  2,  2,  2,  2,  2,  2,  2,  2,  2,  2,  2,\n",
       "        2,  2,  2,  2,  2,  2,  2,  2,  2,  2,  2,  2,  2,  2,  2,  2,  2,\n",
       "        2,  2,  2,  2,  2,  2,  2,  2,  2,  2,  2,  2,  2,  2, -8,  2,  2,\n",
       "        2,  2,  2,  2,  2,  2,  2,  2,  2,  2,  2,  2,  2,  2,  2,  2,  2,\n",
       "        2,  2,  2,  2,  2,  2,  2,  2,  2,  2,  2,  2,  2,  2,  2,  2,  2,\n",
       "        2,  2,  2,  2,  2,  2,  2,  2,  2,  2,  2,  2,  2,  2,  2,  2,  2,\n",
       "        2,  2,  2,  2,  2,  2, -8,  2,  2,  2,  2,  2,  2,  2,  2,  2,  2,\n",
       "        2,  2,  2, -8,  2,  2,  2, -8,  2,  2,  2,  2,  2,  2,  2,  2,  2,\n",
       "        2,  2,  2,  2,  2,  2,  2,  2,  2,  2,  2,  2,  2,  2,  2,  2,  2,\n",
       "        2,  2,  2,  2,  2,  2,  2,  2,  2,  2,  2,  2,  2,  2,  2,  2,  2,\n",
       "        2,  2,  2,  2,  2,  2,  2,  2,  2,  2,  2,  2,  2,  2,  2,  2,  2,\n",
       "        2,  2,  2,  2,  2,  2, -8,  2,  2,  2,  2,  2,  2,  2,  2,  2,  2,\n",
       "        2,  2,  2,  2,  2,  2,  2,  2,  2,  2,  2,  2,  2,  2,  2,  2,  2,\n",
       "        2,  2,  2,  2,  2,  2,  2,  2,  2,  2,  2,  2,  2,  2,  2,  2,  2,\n",
       "        2,  2,  2,  2,  2,  2,  2,  2,  2,  2,  2,  2,  2,  2,  2,  2,  2,\n",
       "        2,  2,  2,  2,  2,  2,  2,  2,  2,  2,  2,  2,  2,  2,  2,  2,  2,\n",
       "        2,  2,  2,  2,  2,  2,  2,  2,  2, -8,  2,  2,  2,  2,  2,  2,  2,\n",
       "        2,  2,  2,  2,  2,  2,  2,  2,  2,  2,  2,  2,  2,  2,  2,  2,  2,\n",
       "        2,  2,  2,  2,  2,  2,  2,  2,  2,  2,  2,  2,  2,  2,  2,  2,  2,\n",
       "        2,  2,  2,  2,  2,  2,  2,  2,  2,  2,  2,  2,  2,  2,  2,  2,  2,\n",
       "        2,  2,  2,  2,  2,  2,  2,  2,  2,  2,  2,  2,  2,  2,  2,  2,  2,\n",
       "        2,  2,  2,  2,  2,  2,  2,  2,  2,  2,  2,  2,  2,  2,  2,  2,  2,\n",
       "        2,  2,  2,  2,  2,  2,  2,  2,  2,  2, -8,  2,  2,  2,  2,  2,  2,\n",
       "        2,  2,  2,  2,  2,  2,  2,  2,  2,  2,  2,  2,  2,  2,  2,  2,  2,\n",
       "        2,  2,  2,  2,  2,  2,  2,  2,  2,  2,  2,  2,  2,  2,  2,  2,  2,\n",
       "        2,  2,  2,  2,  2,  2,  2,  2,  2,  2,  2,  2,  2,  2,  2,  2,  2,\n",
       "        2,  2,  2,  2,  2,  2,  2,  2,  2,  2,  2,  2,  2,  2,  2,  2, -8,\n",
       "        2,  2,  2,  2,  2,  2,  2,  2,  2,  2,  2,  2,  2,  2,  2,  2,  2,\n",
       "        2,  2,  2,  2,  2,  2,  2,  2,  2,  2,  2,  2,  2,  2,  2,  2,  2,\n",
       "        2,  2,  2,  2,  2,  2,  2,  2,  2,  2,  2,  2,  2,  2,  2,  2,  2,\n",
       "       -8,  2,  2,  2,  2,  2,  2,  2,  2,  2,  2,  2,  2,  2,  2,  2,  2,\n",
       "        2,  2,  2,  2,  2,  2,  2,  2,  2,  2,  2,  2,  2,  2,  2,  2,  2,\n",
       "        2,  2,  2,  2,  2,  2,  2,  2,  2,  2,  2,  2,  2,  2,  2,  2,  2,\n",
       "        2,  2,  2,  2,  2,  2,  2,  2,  2,  2,  2,  2,  2,  2,  2,  2,  2,\n",
       "        2,  2,  2,  2,  2, -8,  2,  2,  2,  2,  2,  2,  2,  2,  2,  2,  2,\n",
       "        2,  2,  2,  2,  2,  2,  2,  2,  2,  2,  2,  2,  2,  2,  2,  2,  2,\n",
       "        2,  2,  2,  2,  2,  2,  2,  2,  2,  2,  2,  2,  2,  2,  2,  2,  2,\n",
       "        2,  2,  2,  2,  2,  2,  2,  2,  2,  2,  2,  2,  2,  2,  2,  2,  2,\n",
       "        2,  2,  2,  2,  2,  2,  2,  2,  2,  2,  2,  2,  2,  2,  2,  2,  2,\n",
       "        2,  2,  2,  2,  2,  2,  2,  2,  2,  2,  2,  2,  2,  2,  2,  2,  2,\n",
       "        2,  2,  2,  2,  2,  2,  2,  2,  2,  2,  2,  2,  2,  2,  2,  2,  2,\n",
       "        2,  2,  2,  2,  2,  2,  2,  2,  2,  2,  2,  2,  2,  2,  2,  2,  2,\n",
       "        2,  2,  2,  2,  2,  2,  2,  2,  2, -8,  2,  2,  2,  2,  2,  2,  2,\n",
       "        2,  2,  2,  2,  2,  2,  2,  2,  2,  2,  2,  2,  2,  2,  2,  2,  2,\n",
       "       -8,  2,  2,  2,  2,  2,  2,  2,  2,  2,  2,  2,  2,  2,  2,  2,  2,\n",
       "        2,  2,  2,  2,  2,  2,  2,  2,  2,  2,  2,  2,  2,  2,  2,  2,  2,\n",
       "        2,  2,  2,  2, -8,  2,  2,  2,  2,  2,  2,  2,  2,  2,  2,  2,  2,\n",
       "        2,  2,  2,  2,  2,  2,  2,  2,  2,  2,  2,  2,  2,  2,  2,  2,  2,\n",
       "        2,  2,  2,  2,  2,  2,  2,  2,  2,  2,  2,  2,  2,  2,  2,  2,  2,\n",
       "        2,  2,  2,  2,  2,  2,  2,  2,  2,  2,  2,  2,  2,  2,  2,  2,  2,\n",
       "        2,  2,  2,  2,  2,  2,  2,  2,  2,  2,  2,  2,  2,  2,  2,  2,  2,\n",
       "        2,  2,  2,  2,  2,  2,  2,  2,  2,  2,  2,  2,  2,  2,  2,  2,  2,\n",
       "        2,  2,  2,  2,  2,  2,  2,  2,  2,  2,  2,  2,  2,  2,  2,  2,  2,\n",
       "        2, -8,  2,  2,  2,  2,  2,  2,  2,  2,  2,  2,  2,  2,  2,  2,  2,\n",
       "        2,  2,  2,  2,  2,  2,  2,  2,  2,  2,  2,  2,  2,  2,  2,  2,  2,\n",
       "        2,  2,  2,  2,  2,  2,  2,  2,  2,  2,  2,  2,  2,  2,  2,  2,  2,\n",
       "        2,  2,  2,  2,  2,  2,  2,  2,  2,  2,  2,  2,  2,  2,  2,  2,  2,\n",
       "        2,  2,  2,  2,  2,  2,  2,  2,  2,  2,  2,  2,  2,  2,  2,  2,  2,\n",
       "        2,  2,  2,  2,  2,  2,  2,  2,  2,  2,  2,  2,  2,  2])"
      ]
     },
     "execution_count": 185,
     "metadata": {},
     "output_type": "execute_result"
    }
   ],
   "source": [
    "rewards_average[9]"
   ]
  },
  {
   "cell_type": "code",
   "execution_count": 14,
   "id": "bc621766-f2a5-49b3-8159-e3932dc29965",
   "metadata": {},
   "outputs": [],
   "source": [
    "a = tuple([2,1])"
   ]
  },
  {
   "cell_type": "code",
   "execution_count": 15,
   "id": "ae891013-9a1b-4892-81e4-1b09e52c73a6",
   "metadata": {},
   "outputs": [
    {
     "data": {
      "text/plain": [
       "(2, 1)"
      ]
     },
     "execution_count": 15,
     "metadata": {},
     "output_type": "execute_result"
    }
   ],
   "source": [
    "a"
   ]
  },
  {
   "cell_type": "code",
   "execution_count": null,
   "id": "2cf065cc-a8cd-460e-ae3e-f1328085989c",
   "metadata": {},
   "outputs": [],
   "source": []
  }
 ],
 "metadata": {
  "kernelspec": {
   "display_name": "def",
   "language": "python",
   "name": "def"
  },
  "language_info": {
   "codemirror_mode": {
    "name": "ipython",
    "version": 3
   },
   "file_extension": ".py",
   "mimetype": "text/x-python",
   "name": "python",
   "nbconvert_exporter": "python",
   "pygments_lexer": "ipython3",
   "version": "3.9.10"
  }
 },
 "nbformat": 4,
 "nbformat_minor": 5
}
