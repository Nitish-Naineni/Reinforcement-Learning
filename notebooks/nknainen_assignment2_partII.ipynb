{
 "cells": [
  {
   "cell_type": "markdown",
   "id": "1c7235f4-4381-4502-9e33-5c53c68cfba6",
   "metadata": {},
   "source": [
    "# I certify that the code and data in this assignment were generated independently, using only the tools and resources defined in the course and that I/we did not receive any external help, coaching or contributions during the production of this work."
   ]
  },
  {
   "cell_type": "code",
   "execution_count": 2,
   "id": "e825de10-4009-4a2c-b9d3-794401e0e799",
   "metadata": {},
   "outputs": [],
   "source": [
    "import gym\n",
    "from gym import spaces\n",
    "import numpy as np\n",
    "import matplotlib.pyplot as plt\n",
    "import matplotlib.image as mpimg\n",
    "import time\n",
    "import torch\n",
    "from torch import nn,optim\n",
    "import torch.nn.functional as F\n",
    "import torchvision.transforms as T\n",
    "from collections import deque\n",
    "import random\n",
    "from IPython.display import clear_output"
   ]
  },
  {
   "cell_type": "code",
   "execution_count": 3,
   "id": "2c87b738-bcfc-40f8-894a-39e48de05e4b",
   "metadata": {},
   "outputs": [],
   "source": [
    "class GridEnvironment(gym.Env):\n",
    "    \n",
    "    def __init__(self,stochastic=False):\n",
    "        self.observation_space = spaces.Discrete(16)\n",
    "        self.action_space = spaces.Discrete(4)\n",
    "        self.max_timesteps = 10\n",
    "        self.timestep = 0\n",
    "        self.done = False\n",
    "        self.stochastic = stochastic\n",
    "        self.pos = {'knight':[3,0],\n",
    "                   'mon1':[1,2],\n",
    "                   'mon2':[2,1],\n",
    "                   'chest':[0,3],\n",
    "                   'coin1':[3,1],\n",
    "                   'coin2':[1,3]}\n",
    "        \n",
    "        self.mon1_death = False\n",
    "        self.mon2_death = False\n",
    "        self.coin1_collected = False\n",
    "        self.coin2_collected = False\n",
    "        \n",
    "        # loading assets for rendering\n",
    "        \n",
    "        chars = mpimg.imread('Dungeon_Character.png')\n",
    "        tiles = mpimg.imread('Dungeon_Tileset.png')\n",
    "        assets = {}\n",
    "        assets['knight'] = chars[:16,16*5:16*6]\n",
    "        assets['mon1'] = chars[16:,16*6:]\n",
    "        assets['mon2'] = chars[16:,16*5:16*6]\n",
    "        assets['chest'] = tiles[16*8:16*9,16*4:16*5]\n",
    "        assets['bones'] = tiles[16*7:16*8,16*7:16*8]\n",
    "        torch = tiles[16*9:,:16]\n",
    "        assets['coin1'] = tiles[16*8:16*9,16*6:16*7]\n",
    "        assets['coin2'] = assets['coin1']\n",
    "        stage = np.concatenate((tiles[:16*3,:16*6],\n",
    "                                np.flip(tiles[16*2:16*3,:16*6],axis=1),\n",
    "                                tiles[16*3:16*5,:16*6]),axis=0)\n",
    "        stage[:16,16:16*2] = np.where(torch != 0,torch,stage[:16,16:16*2])\n",
    "        stage[:16,16*4:16*5] = np.where(torch != 0,torch,stage[:16,16*4:16*5])\n",
    "        self.stage = stage\n",
    "        self.assets = assets\n",
    "        self.archives = [tuple(self.pos['knight']+[self.mon1_death,self.mon2_death,self.coin1_collected,self.coin2_collected,self.timestep,0])]\n",
    "        \n",
    "    # used to archive the environment based on timesteps to render later\n",
    "    def archive(self,reward):\n",
    "        instance = tuple(self.pos['knight']+[self.mon1_death,self.mon2_death,self.coin1_collected,self.coin2_collected,self.timestep,reward])\n",
    "        self.archives.append(instance)\n",
    "\n",
    "    def reset(self):\n",
    "        self.timestep = 0\n",
    "        self.pos = {'knight':[3,0],\n",
    "                   'mon1':[1,2],\n",
    "                   'mon2':[2,1],\n",
    "                   'chest':[0,3],\n",
    "                   'coin1':[3,1],\n",
    "                   'coin2':[1,3]}\n",
    "        \n",
    "        self.mon1_death = False\n",
    "        self.mon2_death = False\n",
    "        self.coin1_collected = False\n",
    "        self.coin2_collected = False\n",
    "        \n",
    "        self.archives = [tuple(self.pos['knight']+[self.mon1_death,self.mon2_death,self.coin1_collected,self.coin2_collected,self.timestep,0])]\n",
    "        self.done = False\n",
    "        \n",
    "    \n",
    "    def step(self, action):\n",
    "        '''\n",
    "        0 - up\n",
    "        1 - down\n",
    "        2 - right\n",
    "        3 - left\n",
    "        '''\n",
    "        if self.stochastic == True:\n",
    "            action_prop = 0.9\n",
    "            props = [0.025,0.025,0.025,0.025]\n",
    "            props[action] += action_prop\n",
    "            action = np.random.choice(4, 1, p=props)[0]\n",
    "            \n",
    "        if action == 0:\n",
    "            self.pos['knight'][0] += 1\n",
    "        elif action == 1:\n",
    "            self.pos['knight'][0] -= 1\n",
    "        elif action == 2:\n",
    "            self.pos['knight'][1] += 1\n",
    "        elif action == 3:\n",
    "            self.pos['knight'][1] -= 1\n",
    "\n",
    "        self.pos['knight'] = list(np.clip(self.pos['knight'], 0, 3))\n",
    "        \n",
    "        \n",
    "        reward = 0\n",
    "        if self.pos['knight'] == self.pos['chest']:\n",
    "            reward = 10\n",
    "            self.done = True\n",
    "            \n",
    "        elif self.pos['knight'] == self.pos['mon1']:\n",
    "            if self.mon1_death:\n",
    "                pass\n",
    "            else:\n",
    "                reward = -10\n",
    "                self.mon1_death = True\n",
    "                \n",
    "        elif self.pos['knight'] == self.pos['mon2']:\n",
    "            if self.mon2_death:\n",
    "                pass\n",
    "            else:\n",
    "                reward = -10\n",
    "                self.mon2_death = True\n",
    "        elif self.pos['knight'] == self.pos['coin1']:\n",
    "            if self.coin1_collected:\n",
    "                pass\n",
    "            else:\n",
    "                reward = 2\n",
    "                self.coin1_collected = True\n",
    "        elif self.pos['knight'] == self.pos['coin2']:\n",
    "            if self.coin2_collected:\n",
    "                pass\n",
    "            else:\n",
    "                reward = 2\n",
    "                self.coin2_collected = True\n",
    "        \n",
    "        self.timestep += 1\n",
    "        if self.timestep == self.max_timesteps:\n",
    "            self.done = True\n",
    "        self.archive(reward)\n",
    "        \n",
    "        return reward\n",
    "    \n",
    "    # function used to construct the graphical interface of the environment using overlap an various other methods\n",
    "    def project(self,archive_pos):\n",
    "        instance = np.copy(self.stage)\n",
    "        for item in ['mon1','mon2','chest','coin1','coin2']:\n",
    "            item_asset = item\n",
    "            if item == 'mon1' and archive_pos[2]:\n",
    "                item_asset = 'bones'\n",
    "            elif item == 'mon2' and archive_pos[3]:\n",
    "                item_asset = 'bones'\n",
    "            elif item == 'coin1' and archive_pos[4]:\n",
    "                continue\n",
    "            elif item == 'coin2' and archive_pos[5]:\n",
    "                continue\n",
    "            x = np.where(self.assets[item_asset] != 0, self.assets[item_asset], \n",
    "                       instance[16*(self.pos[item][0]+1):16*(self.pos[item][0]+2),\n",
    "                                16*(self.pos[item][1]+1):16*(self.pos[item][1]+2)])\n",
    "            instance[16*(self.pos[item][0]+1):16*(self.pos[item][0]+2),\n",
    "                     16*(self.pos[item][1]+1):16*(self.pos[item][1]+2)] = x\n",
    "            \n",
    "        x = np.where(self.assets['knight'] != 0, self.assets['knight'], \n",
    "                    instance[16*(archive_pos[0]+1):16*(archive_pos[0]+2),\n",
    "                            16*(archive_pos[1]+1):16*(archive_pos[1]+2)])\n",
    "        instance[16*(archive_pos[0]+1):16*(archive_pos[0]+2),\n",
    "                    16*(archive_pos[1]+1):16*(archive_pos[1]+2)] = x\n",
    "        return instance\n",
    "    \n",
    "    def render(self):\n",
    "        for instance in self.archives:\n",
    "            envrironment = self.project(instance)\n",
    "            plt.figure()\n",
    "            plt.axis('off')\n",
    "            plt.text(0,93,'timestep:'+str(instance[6])+'   reward:'+str(instance[7]),fontsize = 14,color = 'w')\n",
    "            plt.imshow(envrironment,interpolation='none',aspect='equal')\n",
    "            \n",
    "    def get_state(self):\n",
    "        out = np.zeros((4,4,4))\n",
    "        out[0][tuple(grid.pos['knight'])] = 1\n",
    "        if not self.coin1_collected:\n",
    "            out[1][tuple(grid.pos['coin1'])] = 1\n",
    "        if not self.coin2_collected:\n",
    "            out[1][tuple(grid.pos['coin2'])] = 1\n",
    "        if not self.mon1_death:\n",
    "            out[2][tuple(grid.pos['mon1'])] = 1\n",
    "        if not self.mon2_death:\n",
    "            out[2][tuple(grid.pos['mon2'])] = 1\n",
    "        out[3][tuple(grid.pos['chest'])] = 1\n",
    "        return out.flatten()\n",
    "        \n",
    "        "
   ]
  },
  {
   "cell_type": "code",
   "execution_count": 4,
   "id": "25fc9fd0-92fe-4244-8222-e3005f26411e",
   "metadata": {},
   "outputs": [],
   "source": [
    "class DQN(nn.Module):\n",
    "    def __init__(self,length):\n",
    "        super().__init__()\n",
    "        self.fc1 = nn.Linear(64,256)\n",
    "        self.fc2 = nn.Linear(256,64)\n",
    "        self.out = nn.Linear(64,4)\n",
    "        \n",
    "    def forward(self,x):\n",
    "        x = F.relu(self.fc1(x))\n",
    "        x = F.relu(self.fc2(x))\n",
    "        x = self.out(x)\n",
    "        return x"
   ]
  },
  {
   "cell_type": "code",
   "execution_count": 5,
   "id": "f4485874-e5b3-4b64-bcac-f8756c095e18",
   "metadata": {},
   "outputs": [],
   "source": [
    "class Replay:\n",
    "    def __init__(self,mem_size,sample_size):\n",
    "        self.mem_size = mem_size\n",
    "        self.sample_size = sample_size\n",
    "        self.queue =deque(maxlen=mem_size)\n",
    "        \n",
    "    def push(self,x):\n",
    "        self.queue.append(x)\n",
    "        \n",
    "    def sample(self):\n",
    "        return random.sample(self.queue,self.sample_size)\n",
    "    \n",
    "    def samplable(self):\n",
    "        return len(self.queue) > self.sample_size"
   ]
  },
  {
   "cell_type": "code",
   "execution_count": 6,
   "id": "2f4cd5b6-a9e6-456b-afc5-7c81fe346d5d",
   "metadata": {},
   "outputs": [],
   "source": [
    "class Decay:\n",
    "    def __init__(self,start,end,decay):\n",
    "        self.start = start\n",
    "        self.end = end\n",
    "        self.decay = decay\n",
    "        \n",
    "    def get_ep_rate(self,timestep):\n",
    "        return self.end + (self.start - self.end) * np.exp(-1 * timestep * self.decay)"
   ]
  },
  {
   "cell_type": "code",
   "execution_count": 7,
   "id": "cf1b5a51-638d-42a1-becb-6995581c5721",
   "metadata": {},
   "outputs": [],
   "source": [
    "class Agent:\n",
    "    def __init__(self,decay,num_actions):\n",
    "        self.decay = decay\n",
    "        self.num_actions = num_actions\n",
    "        self.timestep = 0\n",
    "        \n",
    "    def select_action(self,state,policy):\n",
    "        rate = self.decay.get_ep_rate(self.timestep)\n",
    "        self.timestep += 1\n",
    "        \n",
    "        if rate > random.random():\n",
    "            return random.randrange(self.num_actions),rate\n",
    "        else:\n",
    "            with torch.no_grad():\n",
    "                return policy(state).argmax().item(),rate"
   ]
  },
  {
   "cell_type": "code",
   "execution_count": 8,
   "id": "8dc1614a-f247-43e0-af43-815ba320fe20",
   "metadata": {},
   "outputs": [],
   "source": [
    "def extract(instances):\n",
    "    states = []\n",
    "    next_states = []\n",
    "    rewards = []\n",
    "    actions = []\n",
    "    dones = []\n",
    "    for state,action,reward,next_state,done in instances:\n",
    "        states.append(state)\n",
    "        next_states.append(next_state)\n",
    "        rewards.append(reward)\n",
    "        actions.append(action)\n",
    "        dones.append(done)\n",
    "    return torch.tensor(np.array(states),dtype=torch.float32),\\\n",
    "           torch.tensor(actions,dtype=torch.float32), \\\n",
    "           torch.tensor(rewards,dtype=torch.float32), \\\n",
    "           torch.tensor(np.array(next_states),dtype=torch.float32), \\\n",
    "           dones"
   ]
  },
  {
   "cell_type": "code",
   "execution_count": 9,
   "id": "f7dd5e23-92ea-41bf-b8b9-d81594e37e42",
   "metadata": {},
   "outputs": [],
   "source": [
    "def get_predict(rewards,discount,next_states,dones,target,actions,current_qs):\n",
    "    vals = []\n",
    "    next_qs = target(next_states)\n",
    "    for reward,next_q,done in zip(rewards,next_qs,dones):\n",
    "        if done:\n",
    "            vals.append(reward)\n",
    "        else:\n",
    "            vals.append(reward + discount * max(next_q))\n",
    "    \n",
    "    out = []\n",
    "    current_qs = current_qs.clone().detach().numpy()\n",
    "    for current_q,action,val in zip(current_qs,actions,vals):\n",
    "        current_q[int(action)] = val\n",
    "        out.append(current_q)\n",
    "    return torch.tensor(np.array(out))       "
   ]
  },
  {
   "cell_type": "code",
   "execution_count": 28,
   "id": "63b30061-3da9-42ec-b796-e5f9bd98e89b",
   "metadata": {},
   "outputs": [],
   "source": [
    "def running_mean(x, N):\n",
    "    cumsum = np.cumsum(np.insert(x, 0, 0)) \n",
    "    return (cumsum[N:] - cumsum[:-N]) / float(N)"
   ]
  },
  {
   "cell_type": "code",
   "execution_count": 69,
   "id": "10deb8c1-79e3-4017-a934-0fe134d2631b",
   "metadata": {},
   "outputs": [],
   "source": [
    "min_er = 0.01\n",
    "max_er = 1\n",
    "decay_er = 0.001\n",
    "episodes = 1000\n",
    "discount = 0.8\n",
    "update_target = 10"
   ]
  },
  {
   "cell_type": "code",
   "execution_count": 70,
   "id": "a55f9721-2baa-4ccb-bd06-426a3166455d",
   "metadata": {},
   "outputs": [],
   "source": [
    "grid = GridEnvironment(stochastic=True)\n",
    "decay = Decay(max_er,min_er,decay_er)\n",
    "agent = Agent(decay,4)\n",
    "memory = Replay(10000,256)\n",
    "policy = DQN(64)\n",
    "target = DQN(64)\n",
    "target.load_state_dict(policy.state_dict())\n",
    "target.eval()\n",
    "optimizer = optim.Adam(params=policy.parameters(),lr=0.001)\n"
   ]
  },
  {
   "cell_type": "code",
   "execution_count": 71,
   "id": "5f18a4c8-84b2-4e48-a765-03cbffc30309",
   "metadata": {
    "tags": []
   },
   "outputs": [
    {
     "name": "stdout",
     "output_type": "stream",
     "text": [
      "99%[=================================================================================================== ]\n"
     ]
    }
   ],
   "source": [
    "reward_per_episode = []\n",
    "epsilon_data = []\n",
    "for episode in range(episodes):\n",
    "    grid.reset()\n",
    "    state = grid.get_state()\n",
    "    episode_reward = 0\n",
    "    while not grid.done:\n",
    "        action,rate = agent.select_action(torch.tensor(state,dtype=torch.float32),policy)\n",
    "        reward = grid.step(action)\n",
    "        \n",
    "        epsilon_data.append(rate)\n",
    "        episode_reward += reward\n",
    "        \n",
    "        next_state = grid.get_state()\n",
    "        memory.push([state,action,reward,next_state,grid.done])\n",
    "        state = next_state\n",
    "\n",
    "        if memory.samplable():\n",
    "            instances = memory.sample()\n",
    "            states, actions, rewards, next_states, dones = extract(instances)\n",
    "            \n",
    "            current_qs = policy(states)\n",
    "            predict = get_predict(rewards,discount,next_states,dones,target,actions,current_qs)\n",
    "            \n",
    "            loss = F.mse_loss(predict,current_qs)\n",
    "            optimizer.zero_grad()\n",
    "            loss.backward()\n",
    "            optimizer.step()\n",
    "            \n",
    "    if episode % update_target == 0:\n",
    "        target.load_state_dict(policy.state_dict())\n",
    "    reward_per_episode.append(episode_reward)\n",
    "    \n",
    "    completion = int((episode/episodes)*100)\n",
    "    bar = '='*completion + ' '*(100-completion)\n",
    "    print(f\"{completion+1}%\"+'['+bar+']')\n",
    "    clear_output(wait=True)"
   ]
  },
  {
   "cell_type": "code",
   "execution_count": 88,
   "id": "7a013307-caaa-42d5-8cf6-5f230347c6d3",
   "metadata": {},
   "outputs": [
    {
     "data": {
      "image/png": "[encoded data removed]",
      "text/plain": [
       "<Figure size 432x288 with 1 Axes>"
      ]
     },
     "metadata": {
      "needs_background": "light"
     },
     "output_type": "display_data"
    }
   ],
   "source": [
    "plt.plot(running_mean(reward_per_episode,100))\n",
    "plt.xlabel('episodes')\n",
    "plt.ylabel('rewards')\n",
    "plt.title('rewards per episode')\n",
    "plt.savefig('results/rperepisode.png',dpi=300)"
   ]
  },
  {
   "cell_type": "code",
   "execution_count": 89,
   "id": "c9c3b7da-cf9a-4b4d-9484-a78286fadbdc",
   "metadata": {},
   "outputs": [
    {
     "data": {
      "image/png": "[encoded data removed]",
      "text/plain": [
       "<Figure size 432x288 with 1 Axes>"
      ]
     },
     "metadata": {
      "needs_background": "light"
     },
     "output_type": "display_data"
    }
   ],
   "source": [
    "plt.plot(epsilon_data)\n",
    "plt.xlabel('episodes')\n",
    "plt.ylabel('exploration rate')\n",
    "plt.title('exploration rate decay')\n",
    "plt.savefig('results/expdecay.png',dpi=300)"
   ]
  },
  {
   "cell_type": "code",
   "execution_count": 93,
   "id": "80e2d0eb-5ea0-443d-863c-c1f993930cbf",
   "metadata": {},
   "outputs": [],
   "source": [
    "no_evaluation_episodes = 100\n",
    "grid = GridEnvironment(stochastic=True)\n",
    "rewards_per_episode = []\n",
    "for episode in range(no_evaluation_episodes):\n",
    "    grid.reset()\n",
    "    total_reward = 0\n",
    "    state = torch.tensor(grid.get_state(),dtype=torch.float32)\n",
    "    while not grid.done:\n",
    "        action = policy(state).argmax().item()\n",
    "        reward = grid.step(action)\n",
    "        total_reward += reward\n",
    "        state = torch.tensor(grid.get_state(),dtype=torch.float32)\n",
    "    rewards_per_episode.append(total_reward)"
   ]
  },
  {
   "cell_type": "code",
   "execution_count": 96,
   "id": "d9efb981-8ab8-43a4-967e-641937f95ab7",
   "metadata": {},
   "outputs": [
    {
     "data": {
      "image/png": "[encoded data removed]",
      "text/plain": [
       "<Figure size 432x288 with 1 Axes>"
      ]
     },
     "metadata": {
      "needs_background": "light"
     },
     "output_type": "display_data"
    }
   ],
   "source": [
    "_ = plt.hist(rewards_per_episode)\n",
    "plt.xlabel('rewards')\n",
    "plt.ylabel('episodes')\n",
    "plt.title('No of episodes vs total reward scored')\n",
    "plt.savefig('results/evaluation.png',dpi=300)"
   ]
  },
  {
   "cell_type": "code",
   "execution_count": null,
   "id": "dd8970ac-28de-4c92-9f1a-cbd0d934197d",
   "metadata": {},
   "outputs": [],
   "source": []
  }
 ],
 "metadata": {
  "kernelspec": {
   "display_name": "def",
   "language": "python",
   "name": "def"
  },
  "language_info": {
   "codemirror_mode": {
    "name": "ipython",
    "version": 3
   },
   "file_extension": ".py",
   "mimetype": "text/x-python",
   "name": "python",
   "nbconvert_exporter": "python",
   "pygments_lexer": "ipython3",
   "version": "3.9.10"
  }
 },
 "nbformat": 4,
 "nbformat_minor": 5
}
