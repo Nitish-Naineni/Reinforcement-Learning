{
 "cells": [
  {
   "cell_type": "markdown",
   "id": "95ef8591-6918-459f-8ba2-bcfce210a10e",
   "metadata": {
    "tags": []
   },
   "source": [
    "# I certify that the code and data in this assignment were generated independently, using only the tools and resources defined in the course and that I/we did not receive any external help, coaching or contributions during the production of this work."
   ]
  },
  {
   "cell_type": "code",
   "execution_count": 2,
   "id": "0561dfb8-f5c8-4e52-866d-4683cc17c27e",
   "metadata": {},
   "outputs": [],
   "source": [
    "import gym\n",
    "import random\n",
    "import time\n",
    "import matplotlib.pyplot as plt\n",
    "from IPython.display import clear_output"
   ]
  },
  {
   "cell_type": "markdown",
   "id": "5864ff4b-820a-45aa-a370-ed793fefe428",
   "metadata": {},
   "source": [
    "# environment 1 CartPole-v1"
   ]
  },
  {
   "cell_type": "code",
   "execution_count": 3,
   "id": "057ef106-63a9-476b-842c-57f1a58b439e",
   "metadata": {},
   "outputs": [],
   "source": [
    "env = gym.make('CartPole-v1')"
   ]
  },
  {
   "cell_type": "markdown",
   "id": "c65af4ee-baa4-49ea-80bf-7839c6cdb449",
   "metadata": {},
   "source": [
    "### Action space"
   ]
  },
  {
   "cell_type": "code",
   "execution_count": 4,
   "id": "30516d88-b635-4bbf-a379-7bacca47f3c8",
   "metadata": {},
   "outputs": [
    {
     "data": {
      "text/plain": [
       "Discrete(2)"
      ]
     },
     "execution_count": 4,
     "metadata": {},
     "output_type": "execute_result"
    }
   ],
   "source": [
    "env.action_space"
   ]
  },
  {
   "cell_type": "code",
   "execution_count": 5,
   "id": "ab9bbda6-7d36-4a27-a616-a66e83611e22",
   "metadata": {
    "tags": []
   },
   "outputs": [
    {
     "name": "stderr",
     "output_type": "stream",
     "text": [
      "C:\\Users\\naine\\def\\lib\\site-packages\\gym\\logger.py:34: UserWarning: \u001b[33mWARN: You are calling 'step()' even though this environment has already returned done = True. You should always call 'reset()' once you receive 'done = True' -- any further steps are undefined behavior.\u001b[0m\n",
      "  warnings.warn(colorize(\"%s: %s\" % (\"WARN\", msg % args), \"yellow\"))\n"
     ]
    }
   ],
   "source": [
    "# going to the left\n",
    "env.reset()\n",
    "for _ in range(100):\n",
    "    env.render()\n",
    "    results = env.step(0)\n",
    "    done  = results[2]\n",
    "env.close()"
   ]
  },
  {
   "cell_type": "code",
   "execution_count": 6,
   "id": "def683fd-6dfc-4120-bd8b-2a3675998ac5",
   "metadata": {},
   "outputs": [],
   "source": [
    "# going to the right\n",
    "env.reset()\n",
    "for _ in range(100):\n",
    "    env.render()\n",
    "    results = env.step(1)\n",
    "    done  = results[2]\n",
    "env.close()"
   ]
  },
  {
   "cell_type": "markdown",
   "id": "d29f9fb4-ebff-4837-bda6-177b2a40fef5",
   "metadata": {},
   "source": [
    "| Num | Action                 |\n",
    "|-----|------------------------|\n",
    "| 0   | Push cart to the left  |\n",
    "| 1   | Push cart to the right |"
   ]
  },
  {
   "cell_type": "markdown",
   "id": "0acbfa01-c1cb-4468-9da2-70eabe6c96c1",
   "metadata": {
    "tags": []
   },
   "source": [
    "### Observation space"
   ]
  },
  {
   "cell_type": "markdown",
   "id": "22935d58-526f-4fa5-bb3e-25b2a72ee9f0",
   "metadata": {},
   "source": [
    "looking at the code for CartPole-v1 environment we can note the following info about obersvation space"
   ]
  },
  {
   "cell_type": "markdown",
   "id": "b6e486ce-d6aa-43f1-aaf3-478dfa8a4439",
   "metadata": {},
   "source": [
    "| Num | Observation           | Min                  | Max                |\n",
    "|-----|-----------------------|----------------------|--------------------|\n",
    "| 0   | Cart Position         | -4.8                 | 4.8                |\n",
    "| 1   | Cart Velocity         | -Inf                 | Inf                |\n",
    "| 2   | Pole Angle            | ~ -0.418 rad (-24°)  | ~ 0.418 rad (24°)  |\n",
    "| 3   | Pole Angular Velocity | -Inf                 | Inf                |"
   ]
  },
  {
   "cell_type": "code",
   "execution_count": 7,
   "id": "f46c3778-85af-4a3e-9a65-d5790370f0a0",
   "metadata": {},
   "outputs": [
    {
     "data": {
      "text/plain": [
       "Box([-4.8000002e+00 -3.4028235e+38 -4.1887903e-01 -3.4028235e+38], [4.8000002e+00 3.4028235e+38 4.1887903e-01 3.4028235e+38], (4,), float32)"
      ]
     },
     "execution_count": 7,
     "metadata": {},
     "output_type": "execute_result"
    }
   ],
   "source": [
    "env.observation_space"
   ]
  },
  {
   "cell_type": "code",
   "execution_count": 8,
   "id": "6be124b5-c130-4a4c-b50e-94cdb959e8df",
   "metadata": {},
   "outputs": [
    {
     "data": {
      "text/plain": [
       "array([4.72406626e+00, 6.71091895e+37, 1.14278056e-01, 2.76626227e+38],\n",
       "      dtype=float32)"
      ]
     },
     "execution_count": 8,
     "metadata": {},
     "output_type": "execute_result"
    }
   ],
   "source": [
    "env.observation_space.sample()"
   ]
  },
  {
   "cell_type": "code",
   "execution_count": 9,
   "id": "40f18cda-772b-4114-99cb-cef4d27ecf72",
   "metadata": {},
   "outputs": [
    {
     "name": "stderr",
     "output_type": "stream",
     "text": [
      "C:\\Users\\naine\\def\\lib\\site-packages\\pyglet\\image\\codecs\\wic.py:434: UserWarning: [WinError -2147417850] Cannot change thread mode after it is set\n",
      "  warnings.warn(str(err))\n"
     ]
    },
    {
     "data": {
      "image/png": "[encoded data removed]",
      "text/plain": [
       "<Figure size 432x288 with 1 Axes>"
      ]
     },
     "metadata": {
      "needs_background": "light"
     },
     "output_type": "display_data"
    }
   ],
   "source": [
    "env.reset()\n",
    "plt.imshow(env.render(mode=\"rgb_array\"))\n",
    "env.close()"
   ]
  },
  {
   "cell_type": "markdown",
   "id": "cb00f253-56fc-4dd3-aad3-47a4b40343f6",
   "metadata": {
    "tags": []
   },
   "source": [
    "# environment 2 breakout"
   ]
  },
  {
   "cell_type": "code",
   "execution_count": 10,
   "id": "325dfb3f-7326-4f32-8a50-8f75b6ef363e",
   "metadata": {
    "tags": []
   },
   "outputs": [],
   "source": [
    "env = gym.make('Breakout-v0')"
   ]
  },
  {
   "cell_type": "markdown",
   "id": "f3e6b0a4-15b7-44c3-b846-536cec64f8a6",
   "metadata": {
    "tags": []
   },
   "source": [
    "### Action space"
   ]
  },
  {
   "cell_type": "code",
   "execution_count": 11,
   "id": "e478653b-3eb9-4083-a3d5-44c3cb902167",
   "metadata": {},
   "outputs": [
    {
     "data": {
      "text/plain": [
       "Discrete(4)"
      ]
     },
     "execution_count": 11,
     "metadata": {},
     "output_type": "execute_result"
    }
   ],
   "source": [
    "env.action_space"
   ]
  },
  {
   "cell_type": "code",
   "execution_count": 12,
   "id": "127b710e-af76-4cd1-b6a9-1a2046683dc6",
   "metadata": {},
   "outputs": [
    {
     "data": {
      "text/plain": [
       "['NOOP', 'FIRE', 'RIGHT', 'LEFT']"
      ]
     },
     "execution_count": 12,
     "metadata": {},
     "output_type": "execute_result"
    }
   ],
   "source": [
    "env.unwrapped.get_action_meanings()"
   ]
  },
  {
   "cell_type": "markdown",
   "id": "98213128-4d1f-46aa-a0b1-b3e028c467cb",
   "metadata": {},
   "source": [
    "### Observation space"
   ]
  },
  {
   "cell_type": "code",
   "execution_count": 13,
   "id": "a6813acd-91b6-4a5c-a23a-c30c9197d7ce",
   "metadata": {},
   "outputs": [
    {
     "data": {
      "text/plain": [
       "(210, 160, 3)"
      ]
     },
     "execution_count": 13,
     "metadata": {},
     "output_type": "execute_result"
    }
   ],
   "source": [
    "env.observation_space.shape"
   ]
  },
  {
   "cell_type": "code",
   "execution_count": 14,
   "id": "8d3bfff8-7284-4787-ac4f-87d8b89d3fad",
   "metadata": {},
   "outputs": [
    {
     "data": {
      "image/png": "[encoded data removed]",
      "text/plain": [
       "<Figure size 432x288 with 1 Axes>"
      ]
     },
     "metadata": {
      "needs_background": "light"
     },
     "output_type": "display_data"
    }
   ],
   "source": [
    "env.reset()\n",
    "env.step(1)\n",
    "plt.imshow(env.render(mode=\"rgb_array\"))\n",
    "plt.savefig(\"results/test.png\",dpi= 300)\n",
    "env.close()"
   ]
  },
  {
   "cell_type": "code",
   "execution_count": 15,
   "id": "2c0a37c0-dfc8-474e-83b6-f0429d1d98a7",
   "metadata": {
    "tags": []
   },
   "outputs": [],
   "source": [
    "env_imgs = []\n",
    "env.reset()\n",
    "for _ in range(100):\n",
    "    env.render()\n",
    "    results = env.step(random.randrange(4))\n",
    "    env_imgs.append(results[0])\n",
    "env.close()"
   ]
  },
  {
   "cell_type": "code",
   "execution_count": 16,
   "id": "7cf4056f-932c-4fe2-b2cd-cb6017251426",
   "metadata": {
    "tags": []
   },
   "outputs": [
    {
     "data": {
      "image/png": "[encoded data removed]",
      "text/plain": [
       "<Figure size 432x288 with 1 Axes>"
      ]
     },
     "metadata": {
      "needs_background": "light"
     },
     "output_type": "display_data"
    }
   ],
   "source": [
    "for i in range(len(env_imgs)-1):\n",
    "    x = env_imgs[i]-env_imgs[i+1]\n",
    "    gray = 0.2989 * x[:,:,0] + 0.5870 * x[:,:,1] + 0.1140 * x[:,:,2]\n",
    "    plt.imshow(gray,cmap=\"gray\")\n",
    "    plt.pause(0.001)\n",
    "    clear_output(wait=True)"
   ]
  },
  {
   "cell_type": "code",
   "execution_count": null,
   "id": "4f54a744-2878-4cc7-ac90-65af2fb44062",
   "metadata": {},
   "outputs": [],
   "source": []
  }
 ],
 "metadata": {
  "kernelspec": {
   "display_name": "def",
   "language": "python",
   "name": "def"
  },
  "language_info": {
   "codemirror_mode": {
    "name": "ipython",
    "version": 3
   },
   "file_extension": ".py",
   "mimetype": "text/x-python",
   "name": "python",
   "nbconvert_exporter": "python",
   "pygments_lexer": "ipython3",
   "version": "3.9.10"
  }
 },
 "nbformat": 4,
 "nbformat_minor": 5
}
