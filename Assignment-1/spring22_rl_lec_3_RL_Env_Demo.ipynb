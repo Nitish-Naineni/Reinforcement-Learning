{
 "cells": [
  {
   "cell_type": "code",
   "execution_count": 2,
   "metadata": {
    "colab": {
     "base_uri": "https://localhost:8080/"
    },
    "id": "gJ2NIWY_VqBq",
    "outputId": "eb74ba14-4b2f-403b-cb4a-ec7d4c3d681e"
   },
   "outputs": [
    {
     "name": "stdout",
     "output_type": "stream",
     "text": [
      "Requirement already satisfied: gym in /usr/local/lib/python3.7/dist-packages (0.17.3)\n",
      "Requirement already satisfied: cloudpickle<1.7.0,>=1.2.0 in /usr/local/lib/python3.7/dist-packages (from gym) (1.3.0)\n",
      "Requirement already satisfied: numpy>=1.10.4 in /usr/local/lib/python3.7/dist-packages (from gym) (1.19.5)\n",
      "Requirement already satisfied: pyglet<=1.5.0,>=1.4.0 in /usr/local/lib/python3.7/dist-packages (from gym) (1.5.0)\n",
      "Requirement already satisfied: scipy in /usr/local/lib/python3.7/dist-packages (from gym) (1.4.1)\n",
      "Requirement already satisfied: future in /usr/local/lib/python3.7/dist-packages (from pyglet<=1.5.0,>=1.4.0->gym) (0.16.0)\n"
     ]
    }
   ],
   "source": [
    "!pip install gym"
   ]
  },
  {
   "cell_type": "code",
   "execution_count": 1,
   "metadata": {
    "id": "9j4Qb7nU6RuC"
   },
   "outputs": [],
   "source": [
    "import numpy as np\n",
    "import matplotlib.pyplot as plt\n",
    "import gym\n",
    "from gym import spaces"
   ]
  },
  {
   "cell_type": "code",
   "execution_count": 2,
   "metadata": {
    "colab": {
     "base_uri": "https://localhost:8080/"
    },
    "id": "5q2ods0l6b-2",
    "outputId": "058c6710-e5ce-4524-e965-d481f9c68e0a"
   },
   "outputs": [
    {
     "name": "stdout",
     "output_type": "stream",
     "text": [
      "[[0. 0. 0.]\n",
      " [0. 0. 0.]\n",
      " [0. 0. 0.]]\n"
     ]
    }
   ],
   "source": [
    "grid = np.zeros((3, 3))\n",
    "print(grid)"
   ]
  },
  {
   "cell_type": "code",
   "execution_count": 3,
   "metadata": {
    "colab": {
     "base_uri": "https://localhost:8080/"
    },
    "id": "DuUnFoP26iA0",
    "outputId": "c0bcdfac-6193-4c27-c92b-cc44ec62ee67"
   },
   "outputs": [
    {
     "name": "stdout",
     "output_type": "stream",
     "text": [
      "[[1.  0.  0. ]\n",
      " [0.  0.  0. ]\n",
      " [0.  0.  0.5]]\n"
     ]
    }
   ],
   "source": [
    "pos1 = [0, 0]\n",
    "pos2 = [2, 2]\n",
    "\n",
    "grid[tuple(pos1)] = 1\n",
    "grid[tuple(pos2)] = 0.5\n",
    "\n",
    "print(grid)"
   ]
  },
  {
   "cell_type": "code",
   "execution_count": 4,
   "metadata": {
    "colab": {
     "base_uri": "https://localhost:8080/",
     "height": 286
    },
    "id": "Dm-hGSkw6r82",
    "outputId": "095f65b0-bb23-4b83-8afa-ef5a79f8e3fc"
   },
   "outputs": [
    {
     "data": {
      "text/plain": [
       "<matplotlib.image.AxesImage at 0x22c7f077460>"
      ]
     },
     "execution_count": 4,
     "metadata": {},
     "output_type": "execute_result"
    },
    {
     "data": {
      "image/png": "[encoded data removed]",
      "text/plain": [
       "<Figure size 432x288 with 1 Axes>"
      ]
     },
     "metadata": {
      "needs_background": "light"
     },
     "output_type": "display_data"
    }
   ],
   "source": [
    "plt.imshow(grid)"
   ]
  },
  {
   "cell_type": "code",
   "execution_count": 5,
   "metadata": {
    "colab": {
     "base_uri": "https://localhost:8080/",
     "height": 273
    },
    "id": "iUXzzdrO6w96",
    "outputId": "cef76b8d-f130-4a14-bf42-e1a3d3b41d9d"
   },
   "outputs": [
    {
     "ename": "ModuleNotFoundError",
     "evalue": "No module named 'google'",
     "output_type": "error",
     "traceback": [
      "\u001b[1;31m---------------------------------------------------------------------------\u001b[0m",
      "\u001b[1;31mModuleNotFoundError\u001b[0m                       Traceback (most recent call last)",
      "Input \u001b[1;32mIn [5]\u001b[0m, in \u001b[0;36m<module>\u001b[1;34m\u001b[0m\n\u001b[1;32m----> 1\u001b[0m \u001b[38;5;28;01mfrom\u001b[39;00m \u001b[38;5;21;01mgoogle\u001b[39;00m\u001b[38;5;21;01m.\u001b[39;00m\u001b[38;5;21;01mcolab\u001b[39;00m \u001b[38;5;28;01mimport\u001b[39;00m widgets\n\u001b[0;32m      2\u001b[0m \u001b[38;5;28;01mimport\u001b[39;00m \u001b[38;5;21;01mtime\u001b[39;00m\n\u001b[0;32m      4\u001b[0m output_grid \u001b[38;5;241m=\u001b[39m widgets\u001b[38;5;241m.\u001b[39mGrid(\u001b[38;5;241m1\u001b[39m, \u001b[38;5;241m1\u001b[39m)\n",
      "\u001b[1;31mModuleNotFoundError\u001b[0m: No module named 'google'"
     ]
    }
   ],
   "source": [
    "from google.colab import widgets\n",
    "import time\n",
    "\n",
    "output_grid = widgets.Grid(1, 1)\n",
    "for _ in range(5):\n",
    "  grid = np.zeros((3, 3))\n",
    "  grid[np.random.randint(3), np.random.randint(3)] = 1\n",
    "  with output_grid.output_to(0, 0):\n",
    "    output_grid.clear_cell()\n",
    "    plt.imshow(grid)\n",
    "  time.sleep(1)"
   ]
  },
  {
   "cell_type": "code",
   "execution_count": 12,
   "metadata": {
    "id": "UM3-Q6zv68Ib"
   },
   "outputs": [],
   "source": [
    "class GridEnvironment(gym.Env):\n",
    "  metadata = { 'render.modes': []}\n",
    "\n",
    "  def __init__(self):\n",
    "    self.observation_space = spaces.Discrete(9)\n",
    "    self.action_space = spaces.Discrete(4)\n",
    "    self.max_timesteps = 5\n",
    "\n",
    "  def reset(self):\n",
    "    self.timestep = 0\n",
    "    self.agent_pos = [0, 0]\n",
    "    self.goal_pos = [2, 2]\n",
    "    self.state = np.zeros((3, 3))\n",
    "    self.state[tuple(self.agent_pos)] = 1\n",
    "    self.state[tuple(self.goal_pos)] = 0.5\n",
    "    observation = self.state.flatten()\n",
    "    return observation\n",
    "\n",
    "  def step(self, action):\n",
    "    self.state = np.random.choice(self.observation_space.n)\n",
    "    if action == 0:\n",
    "      self.agent_pos[0] += 1\n",
    "    if action == 1:\n",
    "      self.agent_pos[0] -= 1\n",
    "    if action == 2:\n",
    "      self.agent_pos[1] += 1\n",
    "    if action == 3:\n",
    "      self.agent_pos[1] -= 1\n",
    "    \n",
    "    self.agent_pos = np.clip(self.agent_pos, 0, 2)\n",
    "    self.agent_pos = np.clip(self.agent_pos, 0, 2)\n",
    "    self.state = np.zeros((3,3))\n",
    "    self.state[tuple(self.agent_pos)] = 1\n",
    "    self.state[tuple(self.goal_pos)] = 0.5\n",
    "    observation = self.state.flatten()\n",
    "\n",
    "    reward = 0\n",
    "    if (self.agent_pos == self.goal_pos).all():\n",
    "      reward = 1\n",
    "\n",
    "    self.timestep += 1\n",
    "    done = True if self.timestep >= self.max_timesteps else False\n",
    "    info = {}\n",
    "\n",
    "    return observation, reward, done, info\n",
    "\n",
    "  def render(self):\n",
    "    plt.imshow(self.state)"
   ]
  },
  {
   "cell_type": "code",
   "execution_count": 13,
   "metadata": {
    "colab": {
     "base_uri": "https://localhost:8080/",
     "height": 269
    },
    "id": "8Rk7dsV99XZ2",
    "outputId": "5f18f174-6fbc-44ec-bb7f-1750925669ff"
   },
   "outputs": [
    {
     "data": {
      "image/png": "[encoded data removed]",
      "text/plain": [
       "<Figure size 432x288 with 1 Axes>"
      ]
     },
     "metadata": {
      "needs_background": "light"
     },
     "output_type": "display_data"
    }
   ],
   "source": [
    "env = GridEnvironment()\n",
    "obs = env.reset()\n",
    "env.render()"
   ]
  },
  {
   "cell_type": "code",
   "execution_count": 13,
   "metadata": {
    "colab": {
     "base_uri": "https://localhost:8080/",
     "height": 286
    },
    "id": "iYkVISkn9dJp",
    "outputId": "b380a733-9fc4-45d5-dd7f-b7047b5159ec"
   },
   "outputs": [
    {
     "name": "stdout",
     "output_type": "stream",
     "text": [
      "Reward:  0\n"
     ]
    },
    {
     "data": {
      "image/png": "[encoded data removed]",
      "text/plain": [
       "<Figure size 432x288 with 1 Axes>"
      ]
     },
     "metadata": {
      "needs_background": "light"
     },
     "output_type": "display_data"
    }
   ],
   "source": [
    "action = 1\n",
    "observation, reward, done, _ = env.step(action)\n",
    "env.render()\n",
    "print('Reward: ', reward)"
   ]
  },
  {
   "cell_type": "code",
   "execution_count": null,
   "metadata": {
    "id": "zXLT91H39pRX"
   },
   "outputs": [],
   "source": []
  }
 ],
 "metadata": {
  "colab": {
   "name": "spring22_lec_3_RL_Env.ipynb",
   "provenance": []
  },
  "kernelspec": {
   "display_name": "def",
   "language": "python",
   "name": "def"
  },
  "language_info": {
   "codemirror_mode": {
    "name": "ipython",
    "version": 3
   },
   "file_extension": ".py",
   "mimetype": "text/x-python",
   "name": "python",
   "nbconvert_exporter": "python",
   "pygments_lexer": "ipython3",
   "version": "3.9.10"
  }
 },
 "nbformat": 4,
 "nbformat_minor": 4
}
