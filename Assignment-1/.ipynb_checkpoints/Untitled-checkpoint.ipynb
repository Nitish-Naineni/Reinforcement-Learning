{
 "cells": [
  {
   "cell_type": "code",
   "execution_count": 92,
   "id": "9495b2ba-515c-495e-a690-955aca972a18",
   "metadata": {},
   "outputs": [],
   "source": [
    "import gym\n",
    "from gym import spaces\n",
    "import numpy as np\n",
    "import matplotlib.pyplot as plt\n",
    "import matplotlib.image as mpimg"
   ]
  },
  {
   "cell_type": "code",
   "execution_count": 210,
   "id": "93e9cc08-6940-48a0-b95d-968bc40ced52",
   "metadata": {},
   "outputs": [
    {
     "data": {
      "text/plain": [
       "<matplotlib.image.AxesImage at 0x1bcdb7c5370>"
      ]
     },
     "execution_count": 210,
     "metadata": {},
     "output_type": "execute_result"
    },
    {
     "data": {
      "image/png": "[encoded data removed]",
      "text/plain": [
       "<Figure size 432x288 with 1 Axes>"
      ]
     },
     "metadata": {
      "needs_background": "light"
     },
     "output_type": "display_data"
    }
   ],
   "source": [
    "def overlap(a,b):\n",
    "    return np.where(a != 0, a, b)\n",
    "\n",
    "chars = mpimg.imread('Dungeon_Character.png')\n",
    "tiles = mpimg.imread('Dungeon_Tileset.png')\n",
    "plain = tiles[16*7:16*8,16*9:]\n",
    "knight = chars[:16,16*5:16*6]\n",
    "mon1 = chars[16:,16*6:]\n",
    "mon2 = chars[16:,16*5:16*6]\n",
    "chest = tiles[16*8:16*9,16*4:16*5]\n",
    "torch = tiles[16*9:,:16]\n",
    "coin = tiles[16*8:16*9,16*6:16*7]\n",
    "stage = np.concatenate((tiles[:16*3,:16*6],np.flip(tiles[16*2:16*3,:16*6],axis=1),tiles[16*3:16*5,:16*6]),axis=0)\n",
    "stage[:16,16:16*2] = overlap(torch,stage[:16,16:16*2])\n",
    "stage[:16,16*4:16*5] = overlap(torch,stage[:16,16*4:16*5])\n",
    "plt.imshow(stage,interpolation='none')\n"
   ]
  },
  {
   "cell_type": "code",
   "execution_count": 223,
   "id": "8818030c-f76d-4f63-b0f6-5c22510faf98",
   "metadata": {},
   "outputs": [],
   "source": [
    "class GridEnvironment(gym.Env):\n",
    "    \n",
    "    def __init__(self):\n",
    "        self.observation_space = spaces.Discrete(16)\n",
    "        self.action_space = spaces.Discrete(4)\n",
    "        self.max_timesteps = 5\n",
    "        \n",
    "        self.state = np.zeros((4, 4))\n",
    "        self.knight_pos = [3,0]\n",
    "        self.princess_pos = [0,3]\n",
    "        self.dragon_pos = [2,3]\n",
    "        self.monster1_pos = []\n",
    "        self.monster2_pos = []\n",
    "        \n",
    "        # loading assets for rendering\n",
    "        \n",
    "        chars = mpimg.imread('Dungeon_Character.png')\n",
    "        tiles = mpimg.imread('Dungeon_Tileset.png')\n",
    "        self.knight = chars[:16,16*5:16*6]\n",
    "        self.mon1 = chars[16:,16*6:]\n",
    "        self.mon2 = chars[16:,16*5:16*6]\n",
    "        self.chest = tiles[16*8:16*9,16*4:16*5]\n",
    "        torch = tiles[16*9:,:16]\n",
    "        self.coin = tiles[16*8:16*9,16*6:16*7]\n",
    "        stage = np.concatenate((tiles[:16*3,:16*6],\n",
    "                                np.flip(tiles[16*2:16*3,:16*6],axis=1),\n",
    "                                tiles[16*3:16*5,:16*6]),axis=0)\n",
    "        stage[:16,16:16*2] = np.where(torch != 0,torch,stage[:16,16:16*2])\n",
    "        stage[:16,16*4:16*5] = np.where(torch != 0,torch,stage[:16,16*4:16*5])\n",
    "        self.stage = stage\n",
    "\n",
    "    def reset(self):\n",
    "        self.timestep = 0\n",
    "        self.knight_pos = [3,0]\n",
    "        self.princess_pos = [0,3]\n",
    "        self.state = np.zeros((4, 4))\n",
    "        self.state[tuple(self.knight_pos)] = 1\n",
    "        self.state[tuple(self.princess_pos)] = 5\n",
    "        observation = self.state.flatten()\n",
    "        return observation\n",
    "    \n",
    "    def step(self, action):\n",
    "        self.state = np.random.choice(self.observation_space.n)\n",
    "\n",
    "        '''\n",
    "        0 - up\n",
    "        1 - down\n",
    "        2 - right\n",
    "        3 - left\n",
    "        '''\n",
    "        if action == 0:\n",
    "          self.knight_pos[0] += 1\n",
    "        if action == 1:\n",
    "          self.knight_pos[0] -= 1\n",
    "        if action == 2:\n",
    "          self.knight_pos[1] += 1\n",
    "        if action == 3:\n",
    "          self.knight_pos[1] -= 1\n",
    "\n",
    "        self.knight_pos = np.clip(self.knight_pos, 0, 3)\n",
    "        self.knight_pos = np.clip(self.knight_pos, 0, 3)\n",
    "        self.state = np.zeros((4,4))\n",
    "        self.state[tuple(self.knight_pos)] = 1\n",
    "        self.state[tuple(self.princess_pos)] = 0.5\n",
    "        observation = self.state.flatten()\n",
    "\n",
    "        reward = 0\n",
    "        if (self.knight_pos == self.princess_pos).all():\n",
    "          reward = 1\n",
    "\n",
    "        self.timestep += 1\n",
    "        done = self.timestep >= self.max_timesteps\n",
    "        info = {}\n",
    "\n",
    "        return observation, reward, done, info\n",
    "    \n",
    "    def render(self):\n",
    "        return 0\n",
    "        "
   ]
  },
  {
   "cell_type": "code",
   "execution_count": 224,
   "id": "0a171c76-db5e-4ec7-9cae-a1ecd0f387aa",
   "metadata": {},
   "outputs": [
    {
     "data": {
      "text/plain": [
       "<matplotlib.image.AxesImage at 0x1bcdbb28be0>"
      ]
     },
     "execution_count": 224,
     "metadata": {},
     "output_type": "execute_result"
    },
    {
     "data": {
      "image/png": "[encoded data removed]",
      "text/plain": [
       "<Figure size 432x288 with 1 Axes>"
      ]
     },
     "metadata": {
      "needs_background": "light"
     },
     "output_type": "display_data"
    }
   ],
   "source": [
    "env = GridEnvironment()\n",
    "obs = env.reset()\n",
    "plt.imshow(env.stage,interpolation='none')"
   ]
  },
  {
   "cell_type": "code",
   "execution_count": 87,
   "id": "d7ee5507-989f-478f-b0f7-06d57d76b337",
   "metadata": {},
   "outputs": [],
   "source": [
    "\n"
   ]
  },
  {
   "cell_type": "code",
   "execution_count": 91,
   "id": "0a5100a4-0b29-46a6-8ec5-3b714beedf8e",
   "metadata": {},
   "outputs": [
    {
     "data": {
      "text/plain": [
       "numpy.ndarray"
      ]
     },
     "execution_count": 91,
     "metadata": {},
     "output_type": "execute_result"
    }
   ],
   "source": [
    "type(img)"
   ]
  },
  {
   "cell_type": "code",
   "execution_count": 147,
   "id": "b3f11c72-1236-4c40-bf17-5d8e2086fde2",
   "metadata": {},
   "outputs": [
    {
     "data": {
      "text/plain": [
       "[1, 0]"
      ]
     },
     "execution_count": 147,
     "metadata": {},
     "output_type": "execute_result"
    }
   ],
   "source": [
    "[1,0] or [0,2]"
   ]
  },
  {
   "cell_type": "code",
   "execution_count": null,
   "id": "efca5840-d93a-451b-981f-3d4dd8a579c6",
   "metadata": {},
   "outputs": [],
   "source": []
  }
 ],
 "metadata": {
  "kernelspec": {
   "display_name": "def",
   "language": "python",
   "name": "def"
  },
  "language_info": {
   "codemirror_mode": {
    "name": "ipython",
    "version": 3
   },
   "file_extension": ".py",
   "mimetype": "text/x-python",
   "name": "python",
   "nbconvert_exporter": "python",
   "pygments_lexer": "ipython3",
   "version": "3.9.10"
  }
 },
 "nbformat": 4,
 "nbformat_minor": 5
}
